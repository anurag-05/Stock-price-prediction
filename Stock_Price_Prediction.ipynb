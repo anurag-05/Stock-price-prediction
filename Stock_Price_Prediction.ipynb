{
  "nbformat": 4,
  "nbformat_minor": 0,
  "metadata": {
    "colab": {
      "provenance": [],
      "collapsed_sections": [],
      "toc_visible": true
    },
    "kernelspec": {
      "name": "python3",
      "display_name": "Python 3"
    },
    "language_info": {
      "name": "python"
    }
  },
  "cells": [
    {
      "cell_type": "code",
      "execution_count": null,
      "metadata": {
        "id": "VnHI4iAB4qvy"
      },
      "outputs": [],
      "source": [
        "# This program uses an artificial recurrent neural network called Long Short Term Memory (LSTM)\n",
        "# LSTMs are used to predict the closing stock price of a corporation (Apple Inc.) using the past 60 day stock price\n",
        "# Unlike feed forward neural netwroks, LSTM has feedback connections. Therefore it can process entire sequences of data like a speech or video.\n",
        "# Widely used for sequence prediction problems, because LSTM are able to store past information which is important, and able to forget irrevelant information"
      ]
    },
    {
      "cell_type": "code",
      "source": [
        "#Import the libraries\n",
        "import math\n",
        "import pandas_datareader as pdr\n",
        "import numpy as np\n",
        "import pandas as pd\n",
        "from sklearn.preprocessing import MinMaxScaler\n",
        "from keras.models import Sequential         \n",
        "from keras.layers import Dense, LSTM\n",
        "import matplotlib.pyplot as plt\n",
        "plt.style.use('fivethirtyeight')"
      ],
      "metadata": {
        "id": "NIpW196-LM3X"
      },
      "execution_count": null,
      "outputs": []
    },
    {
      "cell_type": "code",
      "source": [
        "#Read the uploaded stock data (18-10-2012 to 18-10-2022)\n",
        "df = pd.read_csv('AAPL.csv')\n",
        "#display the data\n",
        "df"
      ],
      "metadata": {
        "colab": {
          "base_uri": "https://localhost:8080/",
          "height": 641
        },
        "id": "_7vT5DzOK8FT",
        "outputId": "5c9aa0b8-0c9b-46a8-b1b3-d8b522551268"
      },
      "execution_count": null,
      "outputs": [
        {
          "output_type": "execute_result",
          "data": {
            "text/plain": [
              "            Date        Open        High         Low       Close   Adj Close  \\\n",
              "0     2012-10-18   22.842501   22.930714   22.500000   22.594286   19.374552   \n",
              "1     2012-10-19   22.537500   22.563213   21.772142   21.780001   18.676304   \n",
              "2     2012-10-22   21.872143   22.692142   21.812857   22.643929   19.417120   \n",
              "3     2012-10-23   22.535713   22.639286   21.846430   21.905714   18.784101   \n",
              "4     2012-10-24   22.194286   22.376785   21.808571   22.029642   18.890368   \n",
              "...          ...         ...         ...         ...         ...         ...   \n",
              "2510  2022-10-11  139.899994  141.350006  138.220001  138.979996  138.979996   \n",
              "2511  2022-10-12  139.130005  140.360001  138.160004  138.339996  138.339996   \n",
              "2512  2022-10-13  134.990005  143.589996  134.369995  142.990005  142.990005   \n",
              "2513  2022-10-14  144.309998  144.520004  138.190002  138.380005  138.380005   \n",
              "2514  2022-10-17  141.070007  142.899994  140.270004  142.410004  142.410004   \n",
              "\n",
              "         Volume  \n",
              "0     476624400  \n",
              "1     744086000  \n",
              "2     546730800  \n",
              "3     707145600  \n",
              "4     558527200  \n",
              "...         ...  \n",
              "2510   77033700  \n",
              "2511   70433700  \n",
              "2512  113224000  \n",
              "2513   88512300  \n",
              "2514   85073900  \n",
              "\n",
              "[2515 rows x 7 columns]"
            ],
            "text/html": [
              "\n",
              "  <div id=\"df-1e1a2be9-fbd0-4be5-ac2c-a9b8dc2c0077\">\n",
              "    <div class=\"colab-df-container\">\n",
              "      <div>\n",
              "<style scoped>\n",
              "    .dataframe tbody tr th:only-of-type {\n",
              "        vertical-align: middle;\n",
              "    }\n",
              "\n",
              "    .dataframe tbody tr th {\n",
              "        vertical-align: top;\n",
              "    }\n",
              "\n",
              "    .dataframe thead th {\n",
              "        text-align: right;\n",
              "    }\n",
              "</style>\n",
              "<table border=\"1\" class=\"dataframe\">\n",
              "  <thead>\n",
              "    <tr style=\"text-align: right;\">\n",
              "      <th></th>\n",
              "      <th>Date</th>\n",
              "      <th>Open</th>\n",
              "      <th>High</th>\n",
              "      <th>Low</th>\n",
              "      <th>Close</th>\n",
              "      <th>Adj Close</th>\n",
              "      <th>Volume</th>\n",
              "    </tr>\n",
              "  </thead>\n",
              "  <tbody>\n",
              "    <tr>\n",
              "      <th>0</th>\n",
              "      <td>2012-10-18</td>\n",
              "      <td>22.842501</td>\n",
              "      <td>22.930714</td>\n",
              "      <td>22.500000</td>\n",
              "      <td>22.594286</td>\n",
              "      <td>19.374552</td>\n",
              "      <td>476624400</td>\n",
              "    </tr>\n",
              "    <tr>\n",
              "      <th>1</th>\n",
              "      <td>2012-10-19</td>\n",
              "      <td>22.537500</td>\n",
              "      <td>22.563213</td>\n",
              "      <td>21.772142</td>\n",
              "      <td>21.780001</td>\n",
              "      <td>18.676304</td>\n",
              "      <td>744086000</td>\n",
              "    </tr>\n",
              "    <tr>\n",
              "      <th>2</th>\n",
              "      <td>2012-10-22</td>\n",
              "      <td>21.872143</td>\n",
              "      <td>22.692142</td>\n",
              "      <td>21.812857</td>\n",
              "      <td>22.643929</td>\n",
              "      <td>19.417120</td>\n",
              "      <td>546730800</td>\n",
              "    </tr>\n",
              "    <tr>\n",
              "      <th>3</th>\n",
              "      <td>2012-10-23</td>\n",
              "      <td>22.535713</td>\n",
              "      <td>22.639286</td>\n",
              "      <td>21.846430</td>\n",
              "      <td>21.905714</td>\n",
              "      <td>18.784101</td>\n",
              "      <td>707145600</td>\n",
              "    </tr>\n",
              "    <tr>\n",
              "      <th>4</th>\n",
              "      <td>2012-10-24</td>\n",
              "      <td>22.194286</td>\n",
              "      <td>22.376785</td>\n",
              "      <td>21.808571</td>\n",
              "      <td>22.029642</td>\n",
              "      <td>18.890368</td>\n",
              "      <td>558527200</td>\n",
              "    </tr>\n",
              "    <tr>\n",
              "      <th>...</th>\n",
              "      <td>...</td>\n",
              "      <td>...</td>\n",
              "      <td>...</td>\n",
              "      <td>...</td>\n",
              "      <td>...</td>\n",
              "      <td>...</td>\n",
              "      <td>...</td>\n",
              "    </tr>\n",
              "    <tr>\n",
              "      <th>2510</th>\n",
              "      <td>2022-10-11</td>\n",
              "      <td>139.899994</td>\n",
              "      <td>141.350006</td>\n",
              "      <td>138.220001</td>\n",
              "      <td>138.979996</td>\n",
              "      <td>138.979996</td>\n",
              "      <td>77033700</td>\n",
              "    </tr>\n",
              "    <tr>\n",
              "      <th>2511</th>\n",
              "      <td>2022-10-12</td>\n",
              "      <td>139.130005</td>\n",
              "      <td>140.360001</td>\n",
              "      <td>138.160004</td>\n",
              "      <td>138.339996</td>\n",
              "      <td>138.339996</td>\n",
              "      <td>70433700</td>\n",
              "    </tr>\n",
              "    <tr>\n",
              "      <th>2512</th>\n",
              "      <td>2022-10-13</td>\n",
              "      <td>134.990005</td>\n",
              "      <td>143.589996</td>\n",
              "      <td>134.369995</td>\n",
              "      <td>142.990005</td>\n",
              "      <td>142.990005</td>\n",
              "      <td>113224000</td>\n",
              "    </tr>\n",
              "    <tr>\n",
              "      <th>2513</th>\n",
              "      <td>2022-10-14</td>\n",
              "      <td>144.309998</td>\n",
              "      <td>144.520004</td>\n",
              "      <td>138.190002</td>\n",
              "      <td>138.380005</td>\n",
              "      <td>138.380005</td>\n",
              "      <td>88512300</td>\n",
              "    </tr>\n",
              "    <tr>\n",
              "      <th>2514</th>\n",
              "      <td>2022-10-17</td>\n",
              "      <td>141.070007</td>\n",
              "      <td>142.899994</td>\n",
              "      <td>140.270004</td>\n",
              "      <td>142.410004</td>\n",
              "      <td>142.410004</td>\n",
              "      <td>85073900</td>\n",
              "    </tr>\n",
              "  </tbody>\n",
              "</table>\n",
              "<p>2515 rows × 7 columns</p>\n",
              "</div>\n",
              "      <button class=\"colab-df-convert\" onclick=\"convertToInteractive('df-1e1a2be9-fbd0-4be5-ac2c-a9b8dc2c0077')\"\n",
              "              title=\"Convert this dataframe to an interactive table.\"\n",
              "              style=\"display:none;\">\n",
              "        \n",
              "  <svg xmlns=\"http://www.w3.org/2000/svg\" height=\"24px\"viewBox=\"0 0 24 24\"\n",
              "       width=\"24px\">\n",
              "    <path d=\"M0 0h24v24H0V0z\" fill=\"none\"/>\n",
              "    <path d=\"M18.56 5.44l.94 2.06.94-2.06 2.06-.94-2.06-.94-.94-2.06-.94 2.06-2.06.94zm-11 1L8.5 8.5l.94-2.06 2.06-.94-2.06-.94L8.5 2.5l-.94 2.06-2.06.94zm10 10l.94 2.06.94-2.06 2.06-.94-2.06-.94-.94-2.06-.94 2.06-2.06.94z\"/><path d=\"M17.41 7.96l-1.37-1.37c-.4-.4-.92-.59-1.43-.59-.52 0-1.04.2-1.43.59L10.3 9.45l-7.72 7.72c-.78.78-.78 2.05 0 2.83L4 21.41c.39.39.9.59 1.41.59.51 0 1.02-.2 1.41-.59l7.78-7.78 2.81-2.81c.8-.78.8-2.07 0-2.86zM5.41 20L4 18.59l7.72-7.72 1.47 1.35L5.41 20z\"/>\n",
              "  </svg>\n",
              "      </button>\n",
              "      \n",
              "  <style>\n",
              "    .colab-df-container {\n",
              "      display:flex;\n",
              "      flex-wrap:wrap;\n",
              "      gap: 12px;\n",
              "    }\n",
              "\n",
              "    .colab-df-convert {\n",
              "      background-color: #E8F0FE;\n",
              "      border: none;\n",
              "      border-radius: 50%;\n",
              "      cursor: pointer;\n",
              "      display: none;\n",
              "      fill: #1967D2;\n",
              "      height: 32px;\n",
              "      padding: 0 0 0 0;\n",
              "      width: 32px;\n",
              "    }\n",
              "\n",
              "    .colab-df-convert:hover {\n",
              "      background-color: #E2EBFA;\n",
              "      box-shadow: 0px 1px 2px rgba(60, 64, 67, 0.3), 0px 1px 3px 1px rgba(60, 64, 67, 0.15);\n",
              "      fill: #174EA6;\n",
              "    }\n",
              "\n",
              "    [theme=dark] .colab-df-convert {\n",
              "      background-color: #3B4455;\n",
              "      fill: #D2E3FC;\n",
              "    }\n",
              "\n",
              "    [theme=dark] .colab-df-convert:hover {\n",
              "      background-color: #434B5C;\n",
              "      box-shadow: 0px 1px 3px 1px rgba(0, 0, 0, 0.15);\n",
              "      filter: drop-shadow(0px 1px 2px rgba(0, 0, 0, 0.3));\n",
              "      fill: #FFFFFF;\n",
              "    }\n",
              "  </style>\n",
              "\n",
              "      <script>\n",
              "        const buttonEl =\n",
              "          document.querySelector('#df-1e1a2be9-fbd0-4be5-ac2c-a9b8dc2c0077 button.colab-df-convert');\n",
              "        buttonEl.style.display =\n",
              "          google.colab.kernel.accessAllowed ? 'block' : 'none';\n",
              "\n",
              "        async function convertToInteractive(key) {\n",
              "          const element = document.querySelector('#df-1e1a2be9-fbd0-4be5-ac2c-a9b8dc2c0077');\n",
              "          const dataTable =\n",
              "            await google.colab.kernel.invokeFunction('convertToInteractive',\n",
              "                                                     [key], {});\n",
              "          if (!dataTable) return;\n",
              "\n",
              "          const docLinkHtml = 'Like what you see? Visit the ' +\n",
              "            '<a target=\"_blank\" href=https://colab.research.google.com/notebooks/data_table.ipynb>data table notebook</a>'\n",
              "            + ' to learn more about interactive tables.';\n",
              "          element.innerHTML = '';\n",
              "          dataTable['output_type'] = 'display_data';\n",
              "          await google.colab.output.renderOutput(dataTable, element);\n",
              "          const docLink = document.createElement('div');\n",
              "          docLink.innerHTML = docLinkHtml;\n",
              "          element.appendChild(docLink);\n",
              "        }\n",
              "      </script>\n",
              "    </div>\n",
              "  </div>\n",
              "  "
            ]
          },
          "metadata": {},
          "execution_count": 3
        }
      ]
    },
    {
      "cell_type": "code",
      "source": [
        "#Check the type of date column\n",
        "df['Date']"
      ],
      "metadata": {
        "id": "illS9TmSO1wH",
        "colab": {
          "base_uri": "https://localhost:8080/"
        },
        "outputId": "7390f991-a2ee-408f-f301-3eb753fb2d4e"
      },
      "execution_count": null,
      "outputs": [
        {
          "output_type": "execute_result",
          "data": {
            "text/plain": [
              "0       2012-10-18\n",
              "1       2012-10-19\n",
              "2       2012-10-22\n",
              "3       2012-10-23\n",
              "4       2012-10-24\n",
              "           ...    \n",
              "2510    2022-10-11\n",
              "2511    2022-10-12\n",
              "2512    2022-10-13\n",
              "2513    2022-10-14\n",
              "2514    2022-10-17\n",
              "Name: Date, Length: 2515, dtype: object"
            ]
          },
          "metadata": {},
          "execution_count": 4
        }
      ]
    },
    {
      "cell_type": "code",
      "source": [
        "#Convert object to date\n",
        "import datetime\n",
        "\n",
        "def str_to_datetime(s):\n",
        "  split = s.split('-')\n",
        "  year, month, day = int(split[0]), int(split[1]), int(split[2])\n",
        "  return datetime.datetime(year=year, month=month, day=day)\n",
        "\n",
        "#testing the function\n",
        "datetime_object = str_to_datetime('2012-10-18')\n",
        "datetime_object"
      ],
      "metadata": {
        "colab": {
          "base_uri": "https://localhost:8080/"
        },
        "id": "PREXtQUlQLO-",
        "outputId": "70a8ef92-718f-49c6-868c-fabbad236f73"
      },
      "execution_count": null,
      "outputs": [
        {
          "output_type": "execute_result",
          "data": {
            "text/plain": [
              "datetime.datetime(2012, 10, 18, 0, 0)"
            ]
          },
          "metadata": {},
          "execution_count": 5
        }
      ]
    },
    {
      "cell_type": "code",
      "source": [
        "#Apply this function to all the values in the Date column\n",
        "df['Date'] = df['Date'].apply(str_to_datetime)\n",
        "#Check type\n",
        "df['Date']"
      ],
      "metadata": {
        "colab": {
          "base_uri": "https://localhost:8080/"
        },
        "id": "JODjO9cnQ4MR",
        "outputId": "3d1cd0a0-5f0c-42ef-e837-4f61e656d80a"
      },
      "execution_count": null,
      "outputs": [
        {
          "output_type": "execute_result",
          "data": {
            "text/plain": [
              "0      2012-10-18\n",
              "1      2012-10-19\n",
              "2      2012-10-22\n",
              "3      2012-10-23\n",
              "4      2012-10-24\n",
              "          ...    \n",
              "2510   2022-10-11\n",
              "2511   2022-10-12\n",
              "2512   2022-10-13\n",
              "2513   2022-10-14\n",
              "2514   2022-10-17\n",
              "Name: Date, Length: 2515, dtype: datetime64[ns]"
            ]
          },
          "metadata": {},
          "execution_count": 6
        }
      ]
    },
    {
      "cell_type": "code",
      "source": [
        "#Replace the first column and make the date column the index\n",
        "df.index = df.pop('Date')"
      ],
      "metadata": {
        "id": "J-NSFVMDRIgI"
      },
      "execution_count": null,
      "outputs": []
    },
    {
      "cell_type": "code",
      "source": [
        "#Display the date frame\n",
        "df"
      ],
      "metadata": {
        "colab": {
          "base_uri": "https://localhost:8080/",
          "height": 499
        },
        "id": "fkYdXpG2RV1O",
        "outputId": "e34a6582-80be-428c-bfe7-4469c4e07978"
      },
      "execution_count": null,
      "outputs": [
        {
          "output_type": "execute_result",
          "data": {
            "text/plain": [
              "                  Open        High         Low       Close   Adj Close  \\\n",
              "Date                                                                     \n",
              "2012-10-18   22.842501   22.930714   22.500000   22.594286   19.374552   \n",
              "2012-10-19   22.537500   22.563213   21.772142   21.780001   18.676304   \n",
              "2012-10-22   21.872143   22.692142   21.812857   22.643929   19.417120   \n",
              "2012-10-23   22.535713   22.639286   21.846430   21.905714   18.784101   \n",
              "2012-10-24   22.194286   22.376785   21.808571   22.029642   18.890368   \n",
              "...                ...         ...         ...         ...         ...   \n",
              "2022-10-11  139.899994  141.350006  138.220001  138.979996  138.979996   \n",
              "2022-10-12  139.130005  140.360001  138.160004  138.339996  138.339996   \n",
              "2022-10-13  134.990005  143.589996  134.369995  142.990005  142.990005   \n",
              "2022-10-14  144.309998  144.520004  138.190002  138.380005  138.380005   \n",
              "2022-10-17  141.070007  142.899994  140.270004  142.410004  142.410004   \n",
              "\n",
              "               Volume  \n",
              "Date                   \n",
              "2012-10-18  476624400  \n",
              "2012-10-19  744086000  \n",
              "2012-10-22  546730800  \n",
              "2012-10-23  707145600  \n",
              "2012-10-24  558527200  \n",
              "...               ...  \n",
              "2022-10-11   77033700  \n",
              "2022-10-12   70433700  \n",
              "2022-10-13  113224000  \n",
              "2022-10-14   88512300  \n",
              "2022-10-17   85073900  \n",
              "\n",
              "[2515 rows x 6 columns]"
            ],
            "text/html": [
              "\n",
              "  <div id=\"df-6e9a23c2-e886-4bf0-b5c0-0e455b989de6\">\n",
              "    <div class=\"colab-df-container\">\n",
              "      <div>\n",
              "<style scoped>\n",
              "    .dataframe tbody tr th:only-of-type {\n",
              "        vertical-align: middle;\n",
              "    }\n",
              "\n",
              "    .dataframe tbody tr th {\n",
              "        vertical-align: top;\n",
              "    }\n",
              "\n",
              "    .dataframe thead th {\n",
              "        text-align: right;\n",
              "    }\n",
              "</style>\n",
              "<table border=\"1\" class=\"dataframe\">\n",
              "  <thead>\n",
              "    <tr style=\"text-align: right;\">\n",
              "      <th></th>\n",
              "      <th>Open</th>\n",
              "      <th>High</th>\n",
              "      <th>Low</th>\n",
              "      <th>Close</th>\n",
              "      <th>Adj Close</th>\n",
              "      <th>Volume</th>\n",
              "    </tr>\n",
              "    <tr>\n",
              "      <th>Date</th>\n",
              "      <th></th>\n",
              "      <th></th>\n",
              "      <th></th>\n",
              "      <th></th>\n",
              "      <th></th>\n",
              "      <th></th>\n",
              "    </tr>\n",
              "  </thead>\n",
              "  <tbody>\n",
              "    <tr>\n",
              "      <th>2012-10-18</th>\n",
              "      <td>22.842501</td>\n",
              "      <td>22.930714</td>\n",
              "      <td>22.500000</td>\n",
              "      <td>22.594286</td>\n",
              "      <td>19.374552</td>\n",
              "      <td>476624400</td>\n",
              "    </tr>\n",
              "    <tr>\n",
              "      <th>2012-10-19</th>\n",
              "      <td>22.537500</td>\n",
              "      <td>22.563213</td>\n",
              "      <td>21.772142</td>\n",
              "      <td>21.780001</td>\n",
              "      <td>18.676304</td>\n",
              "      <td>744086000</td>\n",
              "    </tr>\n",
              "    <tr>\n",
              "      <th>2012-10-22</th>\n",
              "      <td>21.872143</td>\n",
              "      <td>22.692142</td>\n",
              "      <td>21.812857</td>\n",
              "      <td>22.643929</td>\n",
              "      <td>19.417120</td>\n",
              "      <td>546730800</td>\n",
              "    </tr>\n",
              "    <tr>\n",
              "      <th>2012-10-23</th>\n",
              "      <td>22.535713</td>\n",
              "      <td>22.639286</td>\n",
              "      <td>21.846430</td>\n",
              "      <td>21.905714</td>\n",
              "      <td>18.784101</td>\n",
              "      <td>707145600</td>\n",
              "    </tr>\n",
              "    <tr>\n",
              "      <th>2012-10-24</th>\n",
              "      <td>22.194286</td>\n",
              "      <td>22.376785</td>\n",
              "      <td>21.808571</td>\n",
              "      <td>22.029642</td>\n",
              "      <td>18.890368</td>\n",
              "      <td>558527200</td>\n",
              "    </tr>\n",
              "    <tr>\n",
              "      <th>...</th>\n",
              "      <td>...</td>\n",
              "      <td>...</td>\n",
              "      <td>...</td>\n",
              "      <td>...</td>\n",
              "      <td>...</td>\n",
              "      <td>...</td>\n",
              "    </tr>\n",
              "    <tr>\n",
              "      <th>2022-10-11</th>\n",
              "      <td>139.899994</td>\n",
              "      <td>141.350006</td>\n",
              "      <td>138.220001</td>\n",
              "      <td>138.979996</td>\n",
              "      <td>138.979996</td>\n",
              "      <td>77033700</td>\n",
              "    </tr>\n",
              "    <tr>\n",
              "      <th>2022-10-12</th>\n",
              "      <td>139.130005</td>\n",
              "      <td>140.360001</td>\n",
              "      <td>138.160004</td>\n",
              "      <td>138.339996</td>\n",
              "      <td>138.339996</td>\n",
              "      <td>70433700</td>\n",
              "    </tr>\n",
              "    <tr>\n",
              "      <th>2022-10-13</th>\n",
              "      <td>134.990005</td>\n",
              "      <td>143.589996</td>\n",
              "      <td>134.369995</td>\n",
              "      <td>142.990005</td>\n",
              "      <td>142.990005</td>\n",
              "      <td>113224000</td>\n",
              "    </tr>\n",
              "    <tr>\n",
              "      <th>2022-10-14</th>\n",
              "      <td>144.309998</td>\n",
              "      <td>144.520004</td>\n",
              "      <td>138.190002</td>\n",
              "      <td>138.380005</td>\n",
              "      <td>138.380005</td>\n",
              "      <td>88512300</td>\n",
              "    </tr>\n",
              "    <tr>\n",
              "      <th>2022-10-17</th>\n",
              "      <td>141.070007</td>\n",
              "      <td>142.899994</td>\n",
              "      <td>140.270004</td>\n",
              "      <td>142.410004</td>\n",
              "      <td>142.410004</td>\n",
              "      <td>85073900</td>\n",
              "    </tr>\n",
              "  </tbody>\n",
              "</table>\n",
              "<p>2515 rows × 6 columns</p>\n",
              "</div>\n",
              "      <button class=\"colab-df-convert\" onclick=\"convertToInteractive('df-6e9a23c2-e886-4bf0-b5c0-0e455b989de6')\"\n",
              "              title=\"Convert this dataframe to an interactive table.\"\n",
              "              style=\"display:none;\">\n",
              "        \n",
              "  <svg xmlns=\"http://www.w3.org/2000/svg\" height=\"24px\"viewBox=\"0 0 24 24\"\n",
              "       width=\"24px\">\n",
              "    <path d=\"M0 0h24v24H0V0z\" fill=\"none\"/>\n",
              "    <path d=\"M18.56 5.44l.94 2.06.94-2.06 2.06-.94-2.06-.94-.94-2.06-.94 2.06-2.06.94zm-11 1L8.5 8.5l.94-2.06 2.06-.94-2.06-.94L8.5 2.5l-.94 2.06-2.06.94zm10 10l.94 2.06.94-2.06 2.06-.94-2.06-.94-.94-2.06-.94 2.06-2.06.94z\"/><path d=\"M17.41 7.96l-1.37-1.37c-.4-.4-.92-.59-1.43-.59-.52 0-1.04.2-1.43.59L10.3 9.45l-7.72 7.72c-.78.78-.78 2.05 0 2.83L4 21.41c.39.39.9.59 1.41.59.51 0 1.02-.2 1.41-.59l7.78-7.78 2.81-2.81c.8-.78.8-2.07 0-2.86zM5.41 20L4 18.59l7.72-7.72 1.47 1.35L5.41 20z\"/>\n",
              "  </svg>\n",
              "      </button>\n",
              "      \n",
              "  <style>\n",
              "    .colab-df-container {\n",
              "      display:flex;\n",
              "      flex-wrap:wrap;\n",
              "      gap: 12px;\n",
              "    }\n",
              "\n",
              "    .colab-df-convert {\n",
              "      background-color: #E8F0FE;\n",
              "      border: none;\n",
              "      border-radius: 50%;\n",
              "      cursor: pointer;\n",
              "      display: none;\n",
              "      fill: #1967D2;\n",
              "      height: 32px;\n",
              "      padding: 0 0 0 0;\n",
              "      width: 32px;\n",
              "    }\n",
              "\n",
              "    .colab-df-convert:hover {\n",
              "      background-color: #E2EBFA;\n",
              "      box-shadow: 0px 1px 2px rgba(60, 64, 67, 0.3), 0px 1px 3px 1px rgba(60, 64, 67, 0.15);\n",
              "      fill: #174EA6;\n",
              "    }\n",
              "\n",
              "    [theme=dark] .colab-df-convert {\n",
              "      background-color: #3B4455;\n",
              "      fill: #D2E3FC;\n",
              "    }\n",
              "\n",
              "    [theme=dark] .colab-df-convert:hover {\n",
              "      background-color: #434B5C;\n",
              "      box-shadow: 0px 1px 3px 1px rgba(0, 0, 0, 0.15);\n",
              "      filter: drop-shadow(0px 1px 2px rgba(0, 0, 0, 0.3));\n",
              "      fill: #FFFFFF;\n",
              "    }\n",
              "  </style>\n",
              "\n",
              "      <script>\n",
              "        const buttonEl =\n",
              "          document.querySelector('#df-6e9a23c2-e886-4bf0-b5c0-0e455b989de6 button.colab-df-convert');\n",
              "        buttonEl.style.display =\n",
              "          google.colab.kernel.accessAllowed ? 'block' : 'none';\n",
              "\n",
              "        async function convertToInteractive(key) {\n",
              "          const element = document.querySelector('#df-6e9a23c2-e886-4bf0-b5c0-0e455b989de6');\n",
              "          const dataTable =\n",
              "            await google.colab.kernel.invokeFunction('convertToInteractive',\n",
              "                                                     [key], {});\n",
              "          if (!dataTable) return;\n",
              "\n",
              "          const docLinkHtml = 'Like what you see? Visit the ' +\n",
              "            '<a target=\"_blank\" href=https://colab.research.google.com/notebooks/data_table.ipynb>data table notebook</a>'\n",
              "            + ' to learn more about interactive tables.';\n",
              "          element.innerHTML = '';\n",
              "          dataTable['output_type'] = 'display_data';\n",
              "          await google.colab.output.renderOutput(dataTable, element);\n",
              "          const docLink = document.createElement('div');\n",
              "          docLink.innerHTML = docLinkHtml;\n",
              "          element.appendChild(docLink);\n",
              "        }\n",
              "      </script>\n",
              "    </div>\n",
              "  </div>\n",
              "  "
            ]
          },
          "metadata": {},
          "execution_count": 8
        }
      ]
    },
    {
      "cell_type": "code",
      "source": [
        "#Number of rows and columns and rows in the dataset\n",
        "df.shape"
      ],
      "metadata": {
        "id": "_i6NKY22Lm_D",
        "colab": {
          "base_uri": "https://localhost:8080/"
        },
        "outputId": "353dcd42-94ca-4902-f8b5-e654cebb97cf"
      },
      "execution_count": null,
      "outputs": [
        {
          "output_type": "execute_result",
          "data": {
            "text/plain": [
              "(2515, 6)"
            ]
          },
          "metadata": {},
          "execution_count": 9
        }
      ]
    },
    {
      "cell_type": "code",
      "source": [
        "#Visualize the closing price using matplotlib\n",
        "plt.figure(figsize=(16,8))\n",
        "plt.title('Closing Price History')\n",
        "plt.plot(df['Close'])\n",
        "plt.xlabel('Date',fontsize = 18)\n",
        "plt.ylabel('Close Price (in USD $)')\n",
        "plt.show()"
      ],
      "metadata": {
        "colab": {
          "base_uri": "https://localhost:8080/",
          "height": 336
        },
        "id": "jP5CwYDMLvZ0",
        "outputId": "f31f547e-b682-432d-cef4-ede780752352"
      },
      "execution_count": null,
      "outputs": [
        {
          "output_type": "display_data",
          "data": {
            "text/plain": [
              "<Figure size 1152x576 with 1 Axes>"
            ],
            "image/png": "[encoded data removed]"
          },
          "metadata": {}
        }
      ]
    },
    {
      "cell_type": "code",
      "source": [
        "#Create a new dataframe with only the 'Close column'\n",
        "data = df.filter(['Close'])\n",
        "\n",
        "#Convert the dataframe to a numpy array\n",
        "dataset = data.values\n",
        "\n",
        "#Get the number of rows to train the LSTM model on (80% training data)\n",
        "training_data_len = math.ceil(len(dataset) * 0.8)\n",
        "training_data_len"
      ],
      "metadata": {
        "id": "mW09kWzbVGrq",
        "colab": {
          "base_uri": "https://localhost:8080/"
        },
        "outputId": "61dc2748-8905-4acc-e7a1-32f4f9de027c"
      },
      "execution_count": null,
      "outputs": [
        {
          "output_type": "execute_result",
          "data": {
            "text/plain": [
              "2012"
            ]
          },
          "metadata": {},
          "execution_count": 11
        }
      ]
    },
    {
      "cell_type": "code",
      "source": [
        "#Display the scaled data\n",
        "scaler = MinMaxScaler(feature_range=(0,1))\n",
        "scaled_data = scaler.fit_transform(dataset)\n",
        "\n",
        "scaled_data"
      ],
      "metadata": {
        "colab": {
          "base_uri": "https://localhost:8080/"
        },
        "id": "R-EQisyvlCBz",
        "outputId": "b135ab28-5d98-4f80-81dd-c5980f72c2ed"
      },
      "execution_count": null,
      "outputs": [
        {
          "output_type": "execute_result",
          "data": {
            "text/plain": [
              "array([[0.05144983],\n",
              "       [0.04660469],\n",
              "       [0.05174521],\n",
              "       ...,\n",
              "       [0.76782452],\n",
              "       [0.74039425],\n",
              "       [0.76437342]])"
            ]
          },
          "metadata": {},
          "execution_count": 12
        }
      ]
    },
    {
      "cell_type": "code",
      "source": [
        "#Create and scale the training data set\n",
        "train_data = scaled_data[0:training_data_len, :]\n",
        "\n",
        "#Split the data into x_train and y_train data sets\n",
        "#x_train dataset will contain independent training features, y_train will be the dependent/target feature\n",
        "x_train = []\n",
        "y_train = []\n",
        "\n",
        "\n",
        "for i in range(60, len(train_data)):\n",
        "  x_train.append(train_data[i-60:i, 0])   \n",
        "  y_train.append(train_data[i, 0])\n",
        "  if i<=61:\n",
        "    print(x_train)\n",
        "    print(y_train)\n",
        "    print()\n",
        "\n",
        "\n"
      ],
      "metadata": {
        "colab": {
          "base_uri": "https://localhost:8080/"
        },
        "id": "Sb_Jdu3_mBRI",
        "outputId": "c6a16f3f-c61c-44e6-fd3c-7d41aa78ddd8"
      },
      "execution_count": null,
      "outputs": [
        {
          "output_type": "stream",
          "name": "stdout",
          "text": [
            "[array([0.05144983, 0.04660469, 0.05174521, 0.04735271, 0.0480901 ,\n",
            "       0.04654093, 0.04536365, 0.0435191 , 0.04377836, 0.03958349,\n",
            "       0.04124529, 0.04086915, 0.03558838, 0.03128513, 0.03326356,\n",
            "       0.03236466, 0.03237954, 0.03110025, 0.02870743, 0.0291452 ,\n",
            "       0.03723105, 0.03620676, 0.03637465, 0.0384572 , 0.0422887 ,\n",
            "       0.04127929, 0.04088828, 0.04225256, 0.04138554, 0.04157891,\n",
            "       0.03938161, 0.03150614, 0.03330182, 0.03032885, 0.02959997,\n",
            "       0.03205866, 0.03155076, 0.02957233, 0.02534346, 0.02726451,\n",
            "       0.03046699, 0.02885406, 0.02788079, 0.02737078, 0.02754927,\n",
            "       0.0260256 , 0.02646337, 0.02530096, 0.03009934, 0.03368219,\n",
            "       0.03220953, 0.02900069, 0.02834192, 0.02864155, 0.02689688,\n",
            "       0.02825905, 0.02757691, 0.02363492, 0.02027095, 0.02455719])]\n",
            "[0.023832539199183017]\n",
            "\n",
            "[array([0.05144983, 0.04660469, 0.05174521, 0.04735271, 0.0480901 ,\n",
            "       0.04654093, 0.04536365, 0.0435191 , 0.04377836, 0.03958349,\n",
            "       0.04124529, 0.04086915, 0.03558838, 0.03128513, 0.03326356,\n",
            "       0.03236466, 0.03237954, 0.03110025, 0.02870743, 0.0291452 ,\n",
            "       0.03723105, 0.03620676, 0.03637465, 0.0384572 , 0.0422887 ,\n",
            "       0.04127929, 0.04088828, 0.04225256, 0.04138554, 0.04157891,\n",
            "       0.03938161, 0.03150614, 0.03330182, 0.03032885, 0.02959997,\n",
            "       0.03205866, 0.03155076, 0.02957233, 0.02534346, 0.02726451,\n",
            "       0.03046699, 0.02885406, 0.02788079, 0.02737078, 0.02754927,\n",
            "       0.0260256 , 0.02646337, 0.02530096, 0.03009934, 0.03368219,\n",
            "       0.03220953, 0.02900069, 0.02834192, 0.02864155, 0.02689688,\n",
            "       0.02825905, 0.02757691, 0.02363492, 0.02027095, 0.02455719]), array([0.04660469, 0.05174521, 0.04735271, 0.0480901 , 0.04654093,\n",
            "       0.04536365, 0.0435191 , 0.04377836, 0.03958349, 0.04124529,\n",
            "       0.04086915, 0.03558838, 0.03128513, 0.03326356, 0.03236466,\n",
            "       0.03237954, 0.03110025, 0.02870743, 0.0291452 , 0.03723105,\n",
            "       0.03620676, 0.03637465, 0.0384572 , 0.0422887 , 0.04127929,\n",
            "       0.04088828, 0.04225256, 0.04138554, 0.04157891, 0.03938161,\n",
            "       0.03150614, 0.03330182, 0.03032885, 0.02959997, 0.03205866,\n",
            "       0.03155076, 0.02957233, 0.02534346, 0.02726451, 0.03046699,\n",
            "       0.02885406, 0.02788079, 0.02737078, 0.02754927, 0.0260256 ,\n",
            "       0.02646337, 0.02530096, 0.03009934, 0.03368219, 0.03220953,\n",
            "       0.02900069, 0.02834192, 0.02864155, 0.02689688, 0.02825905,\n",
            "       0.02757691, 0.02363492, 0.02027095, 0.02455719, 0.02383254])]\n",
            "[0.023832539199183017, 0.02326303081481683]\n",
            "\n"
          ]
        }
      ]
    },
    {
      "cell_type": "code",
      "source": [
        "#Convert the x_train and y_train to numpy arrays\n",
        "x_train, y_train = np.array(x_train), np.array(y_train)"
      ],
      "metadata": {
        "id": "nYcXUxaCrIV3"
      },
      "execution_count": null,
      "outputs": []
    },
    {
      "cell_type": "code",
      "source": [
        "#Reshape the data for LSTM\n",
        "#LSTM expects the input to be 3-dimensional (#samples, #timesteps, #features)\n",
        "x_train = np.reshape(x_train,(x_train.shape[0],x_train.shape[1],1))\n",
        "x_train.shape"
      ],
      "metadata": {
        "colab": {
          "base_uri": "https://localhost:8080/"
        },
        "id": "N57HjekPrkM_",
        "outputId": "f6d17588-979e-49c8-f431-619f5cbce54e"
      },
      "execution_count": null,
      "outputs": [
        {
          "output_type": "execute_result",
          "data": {
            "text/plain": [
              "(1952, 60, 1)"
            ]
          },
          "metadata": {},
          "execution_count": 15
        }
      ]
    },
    {
      "cell_type": "code",
      "source": [
        "#Build the LSTM model\n",
        "model = Sequential()\n",
        "\n",
        "#The first argument indicates the number of neurons\n",
        "model.add(LSTM(50, return_sequences = True, input_shape = (x_train.shape[1],1)))\n",
        "model.add(LSTM(50,return_sequences = False))  \n",
        "#Return sequences is false, because we will not be using any more LSTM layers for our model\n",
        "model.add(Dense(25))\n",
        "model.add(Dense(1))"
      ],
      "metadata": {
        "id": "sCSDpUPGsjBY"
      },
      "execution_count": null,
      "outputs": []
    },
    {
      "cell_type": "code",
      "source": [
        "#Compile the model with parameters\n",
        "#Optimizer is used to improve upon the loss function\n",
        "#Loss function is used to tell how well the model did on training data\n",
        "model.compile(optimizer = 'adam', loss = 'mean_squared_error')\n"
      ],
      "metadata": {
        "id": "ffB2nQqyPC4o"
      },
      "execution_count": null,
      "outputs": []
    },
    {
      "cell_type": "code",
      "source": [
        "#Train the model\n",
        "#epochs is the number of iterations when the entire dataset is passed forward and backward through a NN\n",
        "model.fit(x_train, y_train, batch_size = 1, epochs = 1)"
      ],
      "metadata": {
        "colab": {
          "base_uri": "https://localhost:8080/"
        },
        "id": "kAMSDom1Pg9N",
        "outputId": "f6831e0a-4537-4f70-fa20-141562a7ed1c"
      },
      "execution_count": null,
      "outputs": [
        {
          "output_type": "stream",
          "name": "stdout",
          "text": [
            "1952/1952 [==============================] - 50s 24ms/step - loss: 5.5412e-04\n"
          ]
        },
        {
          "output_type": "execute_result",
          "data": {
            "text/plain": [
              "<keras.callbacks.History at 0x7fa33c7931d0>"
            ]
          },
          "metadata": {},
          "execution_count": 19
        }
      ]
    },
    {
      "cell_type": "code",
      "source": [
        "#Create the test data set\n",
        "#Create a new array containing scaled values from index 1952 to 2515\n",
        "test_data = scaled_data[training_data_len - 60: , :]\n",
        "#Create the data sets x_test and y_test (the values we want to predict)\n",
        "x_test = []\n",
        "y_test = dataset[training_data_len: , :]\n",
        "\n",
        "for i in range(60, len(test_data)):\n",
        "  x_test.append(test_data[i-60:i, 0])\n"
      ],
      "metadata": {
        "id": "N4ym9uCBQIJW"
      },
      "execution_count": null,
      "outputs": []
    },
    {
      "cell_type": "code",
      "source": [
        "#Convert the data to a numpy array\n",
        "x_test = np.array(x_test)"
      ],
      "metadata": {
        "id": "mjpqso5haEve"
      },
      "execution_count": null,
      "outputs": []
    },
    {
      "cell_type": "code",
      "source": [
        "#Reshape the data to 3 dimensional for LSTM\n",
        "x_test = np.reshape(x_test, (x_test.shape[0], x_test.shape[1], 1))"
      ],
      "metadata": {
        "id": "d2PrApueamoA"
      },
      "execution_count": null,
      "outputs": []
    },
    {
      "cell_type": "code",
      "source": [
        "#Get the models predicted price values\n",
        "predictions = model.predict(x_test)\n",
        "predictions = scaler.inverse_transform(predictions) #unscaling"
      ],
      "metadata": {
        "colab": {
          "base_uri": "https://localhost:8080/"
        },
        "id": "rv25fAsUc3HH",
        "outputId": "4a528d65-03f0-47f6-8e1c-cfafae2bc82f"
      },
      "execution_count": null,
      "outputs": [
        {
          "output_type": "stream",
          "name": "stdout",
          "text": [
            "16/16 [==============================] - 1s 15ms/step\n"
          ]
        }
      ]
    },
    {
      "cell_type": "code",
      "source": [
        "#Model evaluation using Root Mean Square Error (RMSE)\n",
        "#Lower values of RMSE indicate a better fit\n",
        "rmse=np.sqrt(np.mean(((predictions- y_test)**2)))\n",
        "rmse"
      ],
      "metadata": {
        "colab": {
          "base_uri": "https://localhost:8080/"
        },
        "id": "_sYu7ElmdkPh",
        "outputId": "2f2cd29c-39d6-4343-bf60-ebd14423cd49"
      },
      "execution_count": null,
      "outputs": [
        {
          "output_type": "execute_result",
          "data": {
            "text/plain": [
              "4.52219608085513"
            ]
          },
          "metadata": {},
          "execution_count": 29
        }
      ]
    },
    {
      "cell_type": "code",
      "source": [
        "#Plot the data\n",
        "train = data[0:training_data_len]\n",
        "valid_data = data[training_data_len:]\n",
        "valid_data['Predictions'] = predictions\n",
        "\n",
        "#Visualize the data\n",
        "plt.figure(figsize=(16,8))\n",
        "plt.title('Model')\n",
        "plt.xlabel('Date', fontsize=18)\n",
        "plt.ylabel('Close price USD ($)', fontsize = 18)\n",
        "plt.plot(train['Close'])\n",
        "plt.plot(valid_data[['Close', 'Predictions']])\n",
        "plt.legend(['Train','Validation','Predictions'], loc=\"lower right\")\n",
        "plt.show()"
      ],
      "metadata": {
        "colab": {
          "base_uri": "https://localhost:8080/",
          "height": 460
        },
        "id": "6i7F-G63iWME",
        "outputId": "71fb2712-3705-46dc-9595-a263fefa841b"
      },
      "execution_count": null,
      "outputs": [
        {
          "output_type": "stream",
          "name": "stderr",
          "text": [
            "/usr/local/lib/python3.7/dist-packages/ipykernel_launcher.py:4: SettingWithCopyWarning: \n",
            "A value is trying to be set on a copy of a slice from a DataFrame.\n",
            "Try using .loc[row_indexer,col_indexer] = value instead\n",
            "\n",
            "See the caveats in the documentation: https://pandas.pydata.org/pandas-docs/stable/user_guide/indexing.html#returning-a-view-versus-a-copy\n",
            "  after removing the cwd from sys.path.\n"
          ]
        },
        {
          "output_type": "display_data",
          "data": {
            "text/plain": [
              "<Figure size 1152x576 with 1 Axes>"
            ],
            "image/png": "[encoded data removed]"
          },
          "metadata": {}
        }
      ]
    },
    {
      "cell_type": "code",
      "source": [
        "#Show the validation and predicted prices\n",
        "valid_data"
      ],
      "metadata": {
        "colab": {
          "base_uri": "https://localhost:8080/",
          "height": 455
        },
        "id": "VqS6JzFpjkV6",
        "outputId": "4b5cd524-5185-4893-95a2-1002fdde094d"
      },
      "execution_count": null,
      "outputs": [
        {
          "output_type": "execute_result",
          "data": {
            "text/plain": [
              "                 Close  Predictions\n",
              "Date                               \n",
              "2020-10-19  115.980003   119.090454\n",
              "2020-10-20  117.510002   118.873550\n",
              "2020-10-21  116.870003   118.579742\n",
              "2020-10-22  115.750000   118.184471\n",
              "2020-10-23  115.040001   117.651932\n",
              "...                ...          ...\n",
              "2022-10-11  138.979996   142.971909\n",
              "2022-10-12  138.339996   142.039001\n",
              "2022-10-13  142.990005   141.083588\n",
              "2022-10-14  138.380005   140.778046\n",
              "2022-10-17  142.410004   140.239777\n",
              "\n",
              "[503 rows x 2 columns]"
            ],
            "text/html": [
              "\n",
              "  <div id=\"df-8e96b8e1-49ff-453f-b453-fa59a6ccbd70\">\n",
              "    <div class=\"colab-df-container\">\n",
              "      <div>\n",
              "<style scoped>\n",
              "    .dataframe tbody tr th:only-of-type {\n",
              "        vertical-align: middle;\n",
              "    }\n",
              "\n",
              "    .dataframe tbody tr th {\n",
              "        vertical-align: top;\n",
              "    }\n",
              "\n",
              "    .dataframe thead th {\n",
              "        text-align: right;\n",
              "    }\n",
              "</style>\n",
              "<table border=\"1\" class=\"dataframe\">\n",
              "  <thead>\n",
              "    <tr style=\"text-align: right;\">\n",
              "      <th></th>\n",
              "      <th>Close</th>\n",
              "      <th>Predictions</th>\n",
              "    </tr>\n",
              "    <tr>\n",
              "      <th>Date</th>\n",
              "      <th></th>\n",
              "      <th></th>\n",
              "    </tr>\n",
              "  </thead>\n",
              "  <tbody>\n",
              "    <tr>\n",
              "      <th>2020-10-19</th>\n",
              "      <td>115.980003</td>\n",
              "      <td>119.090454</td>\n",
              "    </tr>\n",
              "    <tr>\n",
              "      <th>2020-10-20</th>\n",
              "      <td>117.510002</td>\n",
              "      <td>118.873550</td>\n",
              "    </tr>\n",
              "    <tr>\n",
              "      <th>2020-10-21</th>\n",
              "      <td>116.870003</td>\n",
              "      <td>118.579742</td>\n",
              "    </tr>\n",
              "    <tr>\n",
              "      <th>2020-10-22</th>\n",
              "      <td>115.750000</td>\n",
              "      <td>118.184471</td>\n",
              "    </tr>\n",
              "    <tr>\n",
              "      <th>2020-10-23</th>\n",
              "      <td>115.040001</td>\n",
              "      <td>117.651932</td>\n",
              "    </tr>\n",
              "    <tr>\n",
              "      <th>...</th>\n",
              "      <td>...</td>\n",
              "      <td>...</td>\n",
              "    </tr>\n",
              "    <tr>\n",
              "      <th>2022-10-11</th>\n",
              "      <td>138.979996</td>\n",
              "      <td>142.971909</td>\n",
              "    </tr>\n",
              "    <tr>\n",
              "      <th>2022-10-12</th>\n",
              "      <td>138.339996</td>\n",
              "      <td>142.039001</td>\n",
              "    </tr>\n",
              "    <tr>\n",
              "      <th>2022-10-13</th>\n",
              "      <td>142.990005</td>\n",
              "      <td>141.083588</td>\n",
              "    </tr>\n",
              "    <tr>\n",
              "      <th>2022-10-14</th>\n",
              "      <td>138.380005</td>\n",
              "      <td>140.778046</td>\n",
              "    </tr>\n",
              "    <tr>\n",
              "      <th>2022-10-17</th>\n",
              "      <td>142.410004</td>\n",
              "      <td>140.239777</td>\n",
              "    </tr>\n",
              "  </tbody>\n",
              "</table>\n",
              "<p>503 rows × 2 columns</p>\n",
              "</div>\n",
              "      <button class=\"colab-df-convert\" onclick=\"convertToInteractive('df-8e96b8e1-49ff-453f-b453-fa59a6ccbd70')\"\n",
              "              title=\"Convert this dataframe to an interactive table.\"\n",
              "              style=\"display:none;\">\n",
              "        \n",
              "  <svg xmlns=\"http://www.w3.org/2000/svg\" height=\"24px\"viewBox=\"0 0 24 24\"\n",
              "       width=\"24px\">\n",
              "    <path d=\"M0 0h24v24H0V0z\" fill=\"none\"/>\n",
              "    <path d=\"M18.56 5.44l.94 2.06.94-2.06 2.06-.94-2.06-.94-.94-2.06-.94 2.06-2.06.94zm-11 1L8.5 8.5l.94-2.06 2.06-.94-2.06-.94L8.5 2.5l-.94 2.06-2.06.94zm10 10l.94 2.06.94-2.06 2.06-.94-2.06-.94-.94-2.06-.94 2.06-2.06.94z\"/><path d=\"M17.41 7.96l-1.37-1.37c-.4-.4-.92-.59-1.43-.59-.52 0-1.04.2-1.43.59L10.3 9.45l-7.72 7.72c-.78.78-.78 2.05 0 2.83L4 21.41c.39.39.9.59 1.41.59.51 0 1.02-.2 1.41-.59l7.78-7.78 2.81-2.81c.8-.78.8-2.07 0-2.86zM5.41 20L4 18.59l7.72-7.72 1.47 1.35L5.41 20z\"/>\n",
              "  </svg>\n",
              "      </button>\n",
              "      \n",
              "  <style>\n",
              "    .colab-df-container {\n",
              "      display:flex;\n",
              "      flex-wrap:wrap;\n",
              "      gap: 12px;\n",
              "    }\n",
              "\n",
              "    .colab-df-convert {\n",
              "      background-color: #E8F0FE;\n",
              "      border: none;\n",
              "      border-radius: 50%;\n",
              "      cursor: pointer;\n",
              "      display: none;\n",
              "      fill: #1967D2;\n",
              "      height: 32px;\n",
              "      padding: 0 0 0 0;\n",
              "      width: 32px;\n",
              "    }\n",
              "\n",
              "    .colab-df-convert:hover {\n",
              "      background-color: #E2EBFA;\n",
              "      box-shadow: 0px 1px 2px rgba(60, 64, 67, 0.3), 0px 1px 3px 1px rgba(60, 64, 67, 0.15);\n",
              "      fill: #174EA6;\n",
              "    }\n",
              "\n",
              "    [theme=dark] .colab-df-convert {\n",
              "      background-color: #3B4455;\n",
              "      fill: #D2E3FC;\n",
              "    }\n",
              "\n",
              "    [theme=dark] .colab-df-convert:hover {\n",
              "      background-color: #434B5C;\n",
              "      box-shadow: 0px 1px 3px 1px rgba(0, 0, 0, 0.15);\n",
              "      filter: drop-shadow(0px 1px 2px rgba(0, 0, 0, 0.3));\n",
              "      fill: #FFFFFF;\n",
              "    }\n",
              "  </style>\n",
              "\n",
              "      <script>\n",
              "        const buttonEl =\n",
              "          document.querySelector('#df-8e96b8e1-49ff-453f-b453-fa59a6ccbd70 button.colab-df-convert');\n",
              "        buttonEl.style.display =\n",
              "          google.colab.kernel.accessAllowed ? 'block' : 'none';\n",
              "\n",
              "        async function convertToInteractive(key) {\n",
              "          const element = document.querySelector('#df-8e96b8e1-49ff-453f-b453-fa59a6ccbd70');\n",
              "          const dataTable =\n",
              "            await google.colab.kernel.invokeFunction('convertToInteractive',\n",
              "                                                     [key], {});\n",
              "          if (!dataTable) return;\n",
              "\n",
              "          const docLinkHtml = 'Like what you see? Visit the ' +\n",
              "            '<a target=\"_blank\" href=https://colab.research.google.com/notebooks/data_table.ipynb>data table notebook</a>'\n",
              "            + ' to learn more about interactive tables.';\n",
              "          element.innerHTML = '';\n",
              "          dataTable['output_type'] = 'display_data';\n",
              "          await google.colab.output.renderOutput(dataTable, element);\n",
              "          const docLink = document.createElement('div');\n",
              "          docLink.innerHTML = docLinkHtml;\n",
              "          element.appendChild(docLink);\n",
              "        }\n",
              "      </script>\n",
              "    </div>\n",
              "  </div>\n",
              "  "
            ]
          },
          "metadata": {},
          "execution_count": 32
        }
      ]
    }
  ]
}